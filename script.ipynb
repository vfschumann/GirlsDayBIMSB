{
 "cells": [
  {
   "cell_type": "markdown",
   "metadata": {},
   "source": [
    "## Girls Day - Donnerstag 27 April 2022\n",
    "\n",
    "Hi Girls!\n",
    "\n",
    "Wilkommen bei dem Berlin Institute for Medical Systems Biology (BIMSB). Wir (Miriam und Brigitte) arbeiten bei BIMSB als Bioinformatiker.\n",
    "Bioinformatik ist eine Kombination von Biologie und Informatik (oder auch Computerwissenschaft genannt). Wir benutzen den Computer, um biologische Fragen zu lösen wie: *Wie werden normale Zellen zu Krebszellen?*, *Wie kann aus einer Ei- und einer Samenzelle ein Mensch entstehen?*, oder *Warum werden manche Patienten durch ein Medikament geheilt, während andere krank bleiben?*. \n",
    "\n",
    "Heute zeigen wir euch einige Aufgaben, mit denen sich ein Bioinformatiker beschäftigen könnte."
   ]
  },
  {
   "cell_type": "markdown",
   "metadata": {},
   "source": [
    "![title](download.jpeg)"
   ]
  },
  {
   "cell_type": "markdown",
   "metadata": {},
   "source": [
    "### 1. Einführung ins Programmieren\n",
    "\n",
    "In der Bioinformatik verwenden wir einen Computer, um einige unserer Fragen zu lösen. Dazu müssen wir dem Computer mitteilen, was er tun soll. Eine Möglichkeit, mit dem Computer zu kommunizieren, besteht darin, eine Maus zu benutzen und auf die verschiedenen Symbole auf dem Bildschirm zu klicken. Wenn wir z. B. auf das Brief- oder Briefmarkenlogo klicken, teilen wir dem Computer mit: \"Öffne eine E-mail\". Eine andere Möglichkeit, mit dem Computer zu kommunizieren, besteht darin, Befehle zu schreiben, die der Computer ausführen soll. Es gibt verschiedene Sprachen, die wir verwenden können, um mit dem Computer zu \"sprechen\" oder die Computer zu \"befehlen\". Die Sprache, die wir heute verwenden werden, heißt \"R\". Die Kommunikation mit einem Computer in einer Computersprache heißt \"programmieren\"."
   ]
  },
  {
   "cell_type": "markdown",
   "metadata": {},
   "source": [
    "<div class=\"alert-success\">\n",
    "    \n",
    "#### 1.1.\n",
    "\n",
    "Erstens werden wir dem Computer einen Befehl geben um eine Nachricht zu zeigen. Das machen wir mit dem Befehl `print(\"\")`. Ihr könnt ein Wort oder einen Satz zwischen die Anführungszeichen schreiben. \n",
    "\n",
    "Übung A: Lass den Computer die Nachricht \"Hello World\" zeigen.\n",
    "    <div>"
   ]
  },
  {
   "cell_type": "code",
   "execution_count": 5,
   "metadata": {},
   "outputs": [
    {
     "name": "stdout",
     "output_type": "stream",
     "text": [
      "[1] \"bye\"\n"
     ]
    }
   ],
   "source": [
    "print(\"bye\")"
   ]
  },
  {
   "cell_type": "markdown",
   "metadata": {},
   "source": [
    "<div class=\"alert-success\">\n",
    "    \n",
    "Übung B: Print auch einen anderen Satz.\n",
    "    <div>"
   ]
  },
  {
   "cell_type": "code",
   "execution_count": 7,
   "metadata": {},
   "outputs": [
    {
     "name": "stdout",
     "output_type": "stream",
     "text": [
      "[1] \"heute ist girls day\"\n"
     ]
    }
   ],
   "source": [
    "print(\"heute ist girls day\")"
   ]
  },
  {
   "cell_type": "markdown",
   "metadata": {},
   "source": [
    "<div class=\"alert-success\">\n",
    "    \n",
    "#### 1.2\n",
    "\n",
    "Wir können auch Wörter oder Sätze in eine \"Variable\" laden. Dazu verwenden wir das Zeichen `=`. Unten sehen Sie ein Beispiel, in dem wir das Wort `\"Miriam\"` in die Variable `Name` geladen haben.\n",
    "  <div>"
   ]
  },
  {
   "cell_type": "code",
   "execution_count": 11,
   "metadata": {},
   "outputs": [
    {
     "name": "stdout",
     "output_type": "stream",
     "text": [
      "[1] \"emilia\"\n"
     ]
    }
   ],
   "source": [
    "Name = \"emilia\"\n",
    "print(Name)"
   ]
  },
  {
   "cell_type": "markdown",
   "metadata": {},
   "source": [
    "<div class=\"alert-success\">\n",
    "    \n",
    "Jetzt können wir den Befehl `print` verwenden, um die Variable `Name` anzuzeigen. \n",
    "\n",
    "Übung A: Lass den Computer die Variable `Name` anzeigen. (Anmerkung: Da `Name` eine Variable ist, braucht ihr die Anführungszeichen nicht).\n",
    "    <div>"
   ]
  },
  {
   "cell_type": "code",
   "execution_count": 16,
   "metadata": {},
   "outputs": [
    {
     "data": {
      "text/html": [
       "'Lilly'"
      ],
      "text/latex": [
       "'Lilly'"
      ],
      "text/markdown": [
       "'Lilly'"
      ],
      "text/plain": [
       "[1] \"Lilly\""
      ]
     },
     "metadata": {},
     "output_type": "display_data"
    }
   ],
   "source": [
    "name2 =\"Lilly\"\n",
    "name2"
   ]
  },
  {
   "cell_type": "markdown",
   "metadata": {},
   "source": [
    "<div class=\"alert-success\">\n",
    "Übung B: Lade die DNA-Sequenz '\"ACGTCGTAGCTGATGCATGCTAGTGTGTGCTAGTCGACAGCTAGTCAGA\"' in eine Variable `DNA` und print die Variable. \n",
    "    <div>"
   ]
  },
  {
   "cell_type": "code",
   "execution_count": 17,
   "metadata": {},
   "outputs": [],
   "source": [
    "DNA = \"ACGTCGTAGCTGATGCATGCTAGTGTGTGCTAGTCGACAGCTAGTCAGA\""
   ]
  },
  {
   "cell_type": "code",
   "execution_count": 18,
   "metadata": {},
   "outputs": [
    {
     "data": {
      "text/html": [
       "'ACGTCGTAGCTGATGCATGCTAGTGTGTGCTAGTCGACAGCTAGTCAGA'"
      ],
      "text/latex": [
       "'ACGTCGTAGCTGATGCATGCTAGTGTGTGCTAGTCGACAGCTAGTCAGA'"
      ],
      "text/markdown": [
       "'ACGTCGTAGCTGATGCATGCTAGTGTGTGCTAGTCGACAGCTAGTCAGA'"
      ],
      "text/plain": [
       "[1] \"ACGTCGTAGCTGATGCATGCTAGTGTGTGCTAGTCGACAGCTAGTCAGA\""
      ]
     },
     "metadata": {},
     "output_type": "display_data"
    }
   ],
   "source": [
    "DNA"
   ]
  },
  {
   "cell_type": "markdown",
   "metadata": {},
   "source": [
    "<div class=\"alert-success\">\n",
    "    \n",
    "#### 1.3\n",
    "\n",
    "In 1.1 hast du bereits die Funktion `print` gesehen. R hat jedoch Tausende von anderen Funktionen. Eine der Funktionen, die wir heute verwenden werden, ist `substr`. Wir können diese Funktion benutzen, um einen Teil einer Variablen zu drucken. Um das zu tun, schreiben wir `substr(Variable, Zahl, Zahl)`. \n",
    "\n",
    "Übung A: Benutze die Funktion `substr` mit der Variablen `DNA` und versuche herauszufinden, was die Zahlen in der Funktion bedeuten. (Tipp: Ersetze das Wort Zahl durch eine Zahl)\n",
    "    <div>"
   ]
  },
  {
   "cell_type": "code",
   "execution_count": 21,
   "metadata": {},
   "outputs": [
    {
     "data": {
      "text/html": [
       "'ACGTCG'"
      ],
      "text/latex": [
       "'ACGTCG'"
      ],
      "text/markdown": [
       "'ACGTCG'"
      ],
      "text/plain": [
       "[1] \"ACGTCG\""
      ]
     },
     "metadata": {},
     "output_type": "display_data"
    }
   ],
   "source": [
    "substr(DNA,1,6)"
   ]
  },
  {
   "cell_type": "markdown",
   "metadata": {},
   "source": [
    "<div class=\"alert-success\">\n",
    "    \n",
    "Übung B: Verwende die Funktion `substr`, um die ersten 6 Buchstaben der Variablen `DNA` zu printen.\n",
    "    <div>"
   ]
  },
  {
   "cell_type": "code",
   "execution_count": null,
   "metadata": {},
   "outputs": [],
   "source": []
  },
  {
   "cell_type": "markdown",
   "metadata": {},
   "source": [
    "<div class=\"alert-success\">\n",
    "    \n",
    "#### 1.4\n",
    "Nun wollen wir wissen, ob die DNA-Sequenz, die wir in die Variable `DNA` geladen haben, unser Bindungsmotiv `GCTAGT` enthält. Dazu müssen wir zunächst den Computer fragen, ob die 6 ausgewählten Buchstaben mit dem Bindungsmotiv übereinstimmen. Wir können zwei Gleichheitszeichen `==` verwenden, um zu fragen, ob eine Variable mit einem ausgewählten Wort identisch ist. Unten haben wir gefragt, ob die Variable `Name` gleich `Brigitte` ist und ob sie gleich `Miriam` ist. \n",
    "    <div>"
   ]
  },
  {
   "cell_type": "code",
   "execution_count": null,
   "metadata": {},
   "outputs": [],
   "source": [
    "Name == \"Brigitte\""
   ]
  },
  {
   "cell_type": "code",
   "execution_count": null,
   "metadata": {},
   "outputs": [],
   "source": [
    "Name == \"Miriam\""
   ]
  },
  {
   "cell_type": "markdown",
   "metadata": {},
   "source": [
    "<div class=\"alert-success\">\n",
    "Übung: Finde heraus, ob die ersten 6 Buchstaben der Variablen `DNA` mit unserem Bindungsmotiv `GCTAGT` übereinstimmen. Prüft auch die Buchstaben 10-15 und 19-24.\n",
    "    <div>"
   ]
  },
  {
   "cell_type": "code",
   "execution_count": 24,
   "metadata": {},
   "outputs": [
    {
     "data": {
      "text/html": [
       "FALSE"
      ],
      "text/latex": [
       "FALSE"
      ],
      "text/markdown": [
       "FALSE"
      ],
      "text/plain": [
       "[1] FALSE"
      ]
     },
     "metadata": {},
     "output_type": "display_data"
    }
   ],
   "source": [
    "substr(DNA,1,6)==\"GCTAGT\""
   ]
  },
  {
   "cell_type": "code",
   "execution_count": 25,
   "metadata": {},
   "outputs": [
    {
     "data": {
      "text/html": [
       "FALSE"
      ],
      "text/latex": [
       "FALSE"
      ],
      "text/markdown": [
       "FALSE"
      ],
      "text/plain": [
       "[1] FALSE"
      ]
     },
     "metadata": {},
     "output_type": "display_data"
    }
   ],
   "source": [
    "substr(DNA,10,15)==\"GCTAGT\""
   ]
  },
  {
   "cell_type": "code",
   "execution_count": 26,
   "metadata": {},
   "outputs": [
    {
     "data": {
      "text/html": [
       "TRUE"
      ],
      "text/latex": [
       "TRUE"
      ],
      "text/markdown": [
       "TRUE"
      ],
      "text/plain": [
       "[1] TRUE"
      ]
     },
     "metadata": {},
     "output_type": "display_data"
    }
   ],
   "source": [
    "substr(DNA,19,24)==\"GCTAGT\""
   ]
  },
  {
   "cell_type": "markdown",
   "metadata": {},
   "source": [
    "<div class=\"alert-success\">\n",
    "    \n",
    "#### 1.5\n",
    "Es wäre ziemlich zeitraubend, wenn wir alle 6 Buchstaben in der DNA-Sequenz von Hand prüfen müssten, ob sie mit dem Bindungsmotiv übereinstimmen. Deshalb werden wir die Leistung des Computers nutzen, um eine 'Loop' über alle 6 Buchstaben in der DNA-Sequenz zu erstellen. Unten haben wir eine Beispielloop geschrieben. \n",
    "\n",
    "Übung A: Führe den Code aus und versuche zu verstehen, was der Code ausgibt.\n",
    "    <div>"
   ]
  },
  {
   "cell_type": "code",
   "execution_count": null,
   "metadata": {},
   "outputs": [],
   "source": [
    "for (i in 1:(nchar(DNA))){\n",
    "    sechs_buchstaben <- substr(DNA, i, i+5)\n",
    "    print(sechs_buchstaben)\n",
    "}"
   ]
  },
  {
   "cell_type": "markdown",
   "metadata": {},
   "source": [
    "<div class=\"alert-success\">\n",
    "Übung B: Verwende den Code, den ihr in 1.2 gemacht habt, um zu printen, ob die Variable `sechs_buchstaben` gleich unserem Bindungsmotiv `GCTAGT` ist.\n",
    "    <div>"
   ]
  },
  {
   "cell_type": "code",
   "execution_count": null,
   "metadata": {},
   "outputs": [],
   "source": [
    "for (i in 1:(nchar(DNA))){\n",
    "    sechs_buchstaben <- substr(DNA, i, i+5)\n",
    "    print(sechs_buchstaben==\"GCTAGT\")\n",
    "}"
   ]
  },
  {
   "cell_type": "markdown",
   "metadata": {},
   "source": [
    "<div class=\"alert-success\">\n",
    "    \n",
    "### 1.6 \n",
    "Eigentlich wollen wir nicht, dass der Computer das Ergebnis ausdruckt. Wir wollen, dass er jedes Mal zählt, wenn 6 Buchstaben gleich dem Bindemotiv sind. Um dies zu erreichen, fügen wir `Anzahl = 0` vor unserer Loop ein. Und am Ende unserer Loop fügen wir `if(sechs_buchstaben == \"ACGTCG\"){Anzahl = Anzahl + 1}.` \n",
    "\n",
    "Übung A: Füge die obigen Sätze zu unserer Loop hinzu und run the Code.\n",
    "    <div>"
   ]
  },
  {
   "cell_type": "code",
   "execution_count": 34,
   "metadata": {},
   "outputs": [],
   "source": [
    "Anzahl=0\n",
    "for (i in 1:(nchar(DNA))){\n",
    "    sechs_buchstaben <- substr(DNA, i, i+5)\n",
    "    if(sechs_buchstaben == \"GCTAGT\"){Anzahl = Anzahl + 1}\n",
    "    #print(sechs_buchstaben==\"GCTAGT\")\n",
    "}"
   ]
  },
  {
   "cell_type": "markdown",
   "metadata": {},
   "source": [
    "<div class=\"alert-success\">\n",
    "Übung B: print Variable `Anzahl`\n",
    "    <div>"
   ]
  },
  {
   "cell_type": "code",
   "execution_count": 35,
   "metadata": {},
   "outputs": [
    {
     "data": {
      "text/html": [
       "3"
      ],
      "text/latex": [
       "3"
      ],
      "text/markdown": [
       "3"
      ],
      "text/plain": [
       "[1] 3"
      ]
     },
     "metadata": {},
     "output_type": "display_data"
    }
   ],
   "source": [
    "Anzahl"
   ]
  },
  {
   "cell_type": "markdown",
   "metadata": {},
   "source": [
    "<div class=\"alert-success\">\n",
    "Übung C: Könnt ihr uns erklären, was in unserer Loop passiert ist, indem ihr diese Sätze hinzugefügt habt?\n",
    "    <div>"
   ]
  },
  {
   "cell_type": "markdown",
   "metadata": {},
   "source": [
    "<div class=\"alert-success\">\n",
    "    \n",
    "### 1.7 \n",
    "Zum Schluss werden wir unseren Code auf die DNA-Sequenz anwenden, die uns interessiert. Da diese DNA-Sequenz über 3000 Buchstaben enthält, wäre es zu viel, sie abzutippen. Stattdessen haben wir die DNA-Sequenz in eine Datei namens `DNA_sequenz.txt` eingefügt. Im Folgenden haben wir den Code geschrieben, um die DNA-Sequenz in dieser Datei in eine Variable namens `all_DNA` zu laden.\n",
    "    <div>"
   ]
  },
  {
   "cell_type": "code",
   "execution_count": 36,
   "metadata": {},
   "outputs": [],
   "source": [
    "all_DNA <- readChar(\"DNA_sequenz.txt\", nchars=1e6)"
   ]
  },
  {
   "cell_type": "markdown",
   "metadata": {},
   "source": [
    "<div class=\"alert-success\">\n",
    "Übung A: Verwende die Funktion `nchar()`, um die Anzahl der Buchstaben in der Variablen `all_DNA` zu ermitteln.\n",
    "    <div>"
   ]
  },
  {
   "cell_type": "code",
   "execution_count": 38,
   "metadata": {},
   "outputs": [
    {
     "data": {
      "text/html": [
       "3109"
      ],
      "text/latex": [
       "3109"
      ],
      "text/markdown": [
       "3109"
      ],
      "text/plain": [
       "[1] 3109"
      ]
     },
     "metadata": {},
     "output_type": "display_data"
    }
   ],
   "source": [
    "nchar(all_DNA)"
   ]
  },
  {
   "cell_type": "markdown",
   "metadata": {},
   "source": [
    "<div class=\"alert-success\">\n",
    "    Übung B: Verwende unsere Loop, um alle Vorkommen des Bindungsmotivs in der DNA-Sequenz zu berechnen.\n",
    "    <div>"
   ]
  },
  {
   "cell_type": "code",
   "execution_count": 43,
   "metadata": {},
   "outputs": [
    {
     "name": "stdout",
     "output_type": "stream",
     "text": [
      "[1] 8\n"
     ]
    }
   ],
   "source": [
    "Anzahl=0\n",
    "for (i in 1:(nchar(all_DNA))){\n",
    "    sechs_buchstaben <- substr(all_DNA, i, i+5)\n",
    "    if(sechs_buchstaben == \"GCTAGT\"){Anzahl = Anzahl + 1}\n",
    "    #print(sechs_buchstaben==\"GCTAGT\")\n",
    "}\n",
    "print(Anzahl)"
   ]
  },
  {
   "cell_type": "markdown",
   "metadata": {},
   "source": [
    "\n",
    "<div class=\"alert-success\">\n",
    "\n",
    "## Aufgabe 2\n",
    "\n",
    "Fuer unseren Drosophila embryo haben wir drei verschiedene Datensaetze  \n",
    "(1) Die Namen der Gene, die wir uns anschauen wollen.  \n",
    "(2) Die Expression dieser Gene. Das heisst fuer jede Zelle wissen wir wie aktiv dieses Gen in der Zelle ist    \n",
    "(3) die Koordinaten fuer jede Zelle, damit wir diese dann visualisieren koennen.  \n",
    "   </div>"
   ]
  },
  {
   "cell_type": "code",
   "execution_count": null,
   "metadata": {},
   "outputs": [],
   "source": [
    "#install and load packages\n",
    "install.packages(\"plotly\")\n",
    "install.packages(\"ggplot2\")\n",
    "library(plotly)\n",
    "\n",
    "#Lade die Daten\n",
    "genes <- rownames(read.table(\"genes.txt\",row.names = 1))\n",
    "GeneExpressions <- read.table(\"sdge_1297_cells_3039_locations.txt\", row.names=genes)\n",
    "geometry <- read.table('geometry.txt',nrows = 3039, skip = 1,col.names = c(\"x\",\"y\",\"z\"))"
   ]
  },
  {
   "cell_type": "markdown",
   "metadata": {},
   "source": [
    "<div class=\"alert-success\">\n",
    "\n",
    "## 2.1\n",
    "    \n",
    "Versuche herauszufinden:   \n",
    "(1) Wie viele Gene haben wir ? (Tipp: mit der Funktion length())  \n",
    "(2) Wie heissen die Gene?  \n",
    "(3) Wie viele Zellen haben wir ? (Tipp: dim() gibt uns die Dimensionen einer Matrix)  \n",
    "    <div>"
   ]
  },
  {
   "cell_type": "code",
   "execution_count": null,
   "metadata": {},
   "outputs": [],
   "source": [
    "print(genes)"
   ]
  },
  {
   "cell_type": "code",
   "execution_count": null,
   "metadata": {},
   "outputs": [],
   "source": [
    "print(\"w\")\n",
    "GeneExpressions"
   ]
  },
  {
   "cell_type": "code",
   "execution_count": null,
   "metadata": {},
   "outputs": [],
   "source": []
  },
  {
   "cell_type": "markdown",
   "metadata": {},
   "source": [
    "<div class=\"alert-success\">\n",
    "Wenn du die naechste Zelle ausfuehrst, siehst du wie unser virtueller Embryo aussieht:  \n",
    "    \n",
    "Kannst du den Titel der Abbildung veraendern?\n",
    "    <div>"
   ]
  }
 ],
 "metadata": {
  "kernelspec": {
   "display_name": "R [conda env:r_env]",
   "language": "R",
   "name": "conda-env-r_env-r"
  },
  "language_info": {
   "codemirror_mode": "r",
   "file_extension": ".r",
   "mimetype": "text/x-r-source",
   "name": "R",
   "pygments_lexer": "r",
   "version": "3.6.1"
  }
 },
 "nbformat": 4,
 "nbformat_minor": 4
}
